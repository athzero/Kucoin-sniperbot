{
  "cells": [
    {
      "cell_type": "markdown",
      "metadata": {
        "colab_type": "text",
        "id": "view-in-github"
      },
      "source": [
        "<a href=\"https://colab.research.google.com/github/CryptoRobotFr/General-code-trading-bot/blob/main/kucoin_sniper.ipynb\" target=\"_parent\"><img src=\"https://colab.research.google.com/assets/colab-badge.svg\" alt=\"Open In Colab\"/></a>"
      ]
    },
    {
      "cell_type": "code",
      "execution_count": null,
      "metadata": {
        "id": "ZjH9eYHQq9yx"
      },
      "outputs": [],
      "source": [
        "!pip install ccxt"
      ]
    },
    {
      "cell_type": "code",
      "execution_count": null,
      "metadata": {
        "colab": {
          "base_uri": "https://localhost:8080/",
          "height": 1000
        },
        "id": "cZwIAM5urM7N",
        "outputId": "0da2e51e-5d4d-498c-88b7-d46fe58b5006"
      },
      "outputs": [],
      "source": [
        "import ccxt\n",
        "import time\n",
        "\n",
        "class SpotKucoin():\n",
        "    def __init__(self, apiKey=None, secret=None, password=None):\n",
        "        kucoinAuthObject = {\n",
        "            \"apiKey\": apiKey,\n",
        "            \"secret\": secret,\n",
        "            \"password\": password,\n",
        "        }\n",
        "        if kucoinAuthObject['secret'] == None:\n",
        "            self._auth = False\n",
        "            self._session = ccxt.kucoin()\n",
        "        else:\n",
        "            self._auth = True\n",
        "            self._session = ccxt.kucoin(kucoinAuthObject)\n",
        "        self.market = self._session.load_markets()\n",
        "\n",
        "    def reload_markets(self):\n",
        "        self.market = self._session.load_markets()\n",
        "\n",
        "    def authentication_required(fn):\n",
        "        \"\"\"Annotation for methods that require auth.\"\"\"\n",
        "        def wrapped(self, *args, **kwargs):\n",
        "            if not self._auth:\n",
        "                print(\"You must be authenticated to use this method\", fn)\n",
        "                exit()\n",
        "            else:\n",
        "                return fn(self, *args, **kwargs)\n",
        "        return wrapped\n",
        "\n",
        "    def convert_amount_to_precision(self, symbol, amount):\n",
        "        return self._session.amount_to_precision(symbol, amount)\n",
        "\n",
        "    def convert_price_to_precision(self, symbol, price):\n",
        "        return self._session.price_to_precision(symbol, price)\n",
        "\n",
        "    @authentication_required\n",
        "    def place_market_order(self, symbol, side, amount):\n",
        "        try:\n",
        "            return self._session.createOrder(\n",
        "                symbol, \n",
        "                'market', \n",
        "                side, \n",
        "                self.convert_amount_to_precision(symbol, amount),\n",
        "                None\n",
        "            )\n",
        "        except Exception as err:\n",
        "            raise err\n",
        "\n",
        "    @authentication_required\n",
        "    def place_limit_order(self, symbol, side, amount, price):\n",
        "        try:\n",
        "            return self._session.createOrder(\n",
        "                symbol, \n",
        "                'limit', \n",
        "                side, \n",
        "                self.convert_amount_to_precision(symbol, amount), \n",
        "                self.convert_price_to_precision(symbol, price)\n",
        "                )\n",
        "        except Exception as err:\n",
        "            raise err\n",
        "\n",
        "kucoin = SpotKucoin(\n",
        "    apiKey=\"\",\n",
        "    secret=\"\",\n",
        "    password=\"\"\n",
        ")\n",
        "\n",
        "symbol = \"BTC/USDT\"\n",
        "amount = 10\n",
        "# buy_price = 30000\n",
        "# sell_price = 35000\n",
        "seconds_before_sell = 30\n",
        "\n",
        "while True:\n",
        "    try:\n",
        "        kucoin.reload_markets()\n",
        "\n",
        "        kucoin.place_market_order(symbol, \"buy\", amount)\n",
        "        # kucoin.place_limit_order(symbol, \"buy\", amount, price)\n",
        "        print(\"Buy Order success!\")\n",
        "\n",
        "        print(\"Waiting for sell...\")\n",
        "        time.sleep(seconds_before_sell)\n",
        "\n",
        "        kucoin.place_market_order(symbol, \"sell\", amount)\n",
        "        # kucoin.place_limit_order(symbol, \"sell\", amount, price)\n",
        "        print(\"Sell Order success!\")\n",
        "\n",
        "        break\n",
        "    \n",
        "    except Exception as err:\n",
        "        print(err)\n",
        "        if str(err) == \"kucoin does not have this market symbol \" + symbol:\n",
        "            time.sleep(0.2)\n",
        "        pass"
      ]
    }
  ],
  "metadata": {
    "colab": {
      "authorship_tag": "ABX9TyMK+exwIqINclAwGwje7Fu+",
      "include_colab_link": true,
      "name": "kucoin_sniper.ipynb",
      "provenance": []
    },
    "kernelspec": {
      "display_name": "Python 3",
      "name": "python3"
    },
    "language_info": {
      "name": "python"
    }
  },
  "nbformat": 4,
  "nbformat_minor": 0
}
